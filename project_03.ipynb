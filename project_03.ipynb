{
 "cells": [
  {
   "cell_type": "markdown",
   "metadata": {},
   "source": [
    "<a id=\"назад\"></a> \n",
    "# Содержание\n",
    "**[Постановка задачи](#постановка_задачи)**  \n",
    "**[Исходные данные](#исходные)**\n",
    "- [users.csv](#users.csv)\n",
    "- [tariffs.csv](#tariffs.csv) \n",
    "- [calls.csv](#calls.csv)\n",
    "- [messages.csv](#messages.csv)\n",
    "- [internet.csv](#internet.csv)\n",
    "\n",
    "**[Обработка](#Обработка)**  \n",
    "- [Подготовка отчета](#подготовка)\n",
    "- [Подсчет суммы звонков, интернет трафика и сообщений по месяцам](#сумма_по_месяцам)\n",
    "- [Расчет выручки](#выручка)\n",
    "\n",
    "**[Анализ](#Анализ)**\n",
    "- [Первый взгляд](#первый_взгляд)\n",
    "- [Оценка влияния \"нулевых\" звонков и сессий](#оценка)\n",
    "- [Анализ потребления](#анализ_потребления)\n",
    "- [Проверка гипотез](#гипотезы)\n",
    "\n",
    "**[Выводы](#Выводы)**"
   ]
  },
  {
   "cell_type": "markdown",
   "metadata": {},
   "source": [
    "<a id=\"постановка_задачи\"></a> \n",
    "# Постановка задачи"
   ]
  },
  {
   "cell_type": "markdown",
   "metadata": {},
   "source": [
    "Компания **«Мегалайн» — федеральный оператор сотовой связи**. Клиентам предлагают два тарифных плана: «Смарт» и «Ультра». Чтобы скорректировать рекламный бюджет, **коммерческий департамент хочет понять, какой тариф приносит больше денег**.\n",
    "Необходимо предстоит сделать предварительный анализ тарифов на небольшой выборке клиентов. В нашем распоряжении данные 500 пользователей «Мегалайна»: кто они, откуда, каким тарифом пользуются, сколько звонков и сообщений каждый отправил за 2018 год. Нужно проанализировать поведение клиентов и сделать вывод — какой тариф лучше.\n",
    "\n",
    "**Тариф «Смарт»**\n",
    "1. Ежемесячная плата: 550 рублей\n",
    "2. Включено 500 минут разговора, 50 сообщений и 15 Гб интернет-трафика\n",
    "3. Стоимость услуг сверх тарифного пакета:\n",
    "   - минута разговора: 3 рубля\n",
    "   - сообщение: 3 рубля\n",
    "   - 1 Гб интернет-трафика: 200 рублей\n",
    "\n",
    "**Тариф «Ультра»**\n",
    "1. Ежемесячная плата: 1950 рублей\n",
    "2. Включено 3000 минут разговора, 1000 сообщений и 30 Гб интернет-трафика\n",
    "3. Стоимость услуг сверх тарифного пакета:\n",
    "   - минута разговора: 1 рубль\n",
    "   - сообщение: 1 рубль\n",
    "   - 1 Гб интернет-трафика: 150 рублей\n",
    "\n",
    "*Примечание: «Мегалайн» всегда округляет вверх значения минут и мегабайтов. Если пользователь проговорил всего 1 секунду, в тарифе засчитывается целая минута.*\n"
   ]
  },
  {
   "cell_type": "markdown",
   "metadata": {},
   "source": [
    "<a id=\"исходные\"></a> \n",
    "# Исходные данные"
   ]
  },
  {
   "cell_type": "code",
   "execution_count": 1,
   "metadata": {},
   "outputs": [],
   "source": [
    "import os\n",
    "import pandas as pd\n",
    "import numpy as np\n",
    "import math as mt\n",
    "from scipy import stats as st\n",
    "import matplotlib.pyplot as plt\n",
    "import matplotlib.ticker as ticker\n",
    "import datetime as dt\n",
    "calls=pd.read_csv('calls.csv')\n",
    "internet=pd.read_csv('internet.csv')\n",
    "messages=pd.read_csv('messages.csv')\n",
    "tariffs=pd.read_csv('tariffs.csv')\n",
    "users=pd.read_csv('users.csv')"
   ]
  },
  {
   "cell_type": "markdown",
   "metadata": {},
   "source": [
    "### users.csv  \n",
    "[в начало](#назад)"
   ]
  },
  {
   "cell_type": "code",
   "execution_count": 2,
   "metadata": {},
   "outputs": [
    {
     "data": {
      "text/html": [
       "<div>\n",
       "<style scoped>\n",
       "    .dataframe tbody tr th:only-of-type {\n",
       "        vertical-align: middle;\n",
       "    }\n",
       "\n",
       "    .dataframe tbody tr th {\n",
       "        vertical-align: top;\n",
       "    }\n",
       "\n",
       "    .dataframe thead th {\n",
       "        text-align: right;\n",
       "    }\n",
       "</style>\n",
       "<table border=\"1\" class=\"dataframe\">\n",
       "  <thead>\n",
       "    <tr style=\"text-align: right;\">\n",
       "      <th></th>\n",
       "      <th>user_id</th>\n",
       "      <th>age</th>\n",
       "      <th>churn_date</th>\n",
       "      <th>city</th>\n",
       "      <th>first_name</th>\n",
       "      <th>last_name</th>\n",
       "      <th>reg_date</th>\n",
       "      <th>tariff</th>\n",
       "    </tr>\n",
       "  </thead>\n",
       "  <tbody>\n",
       "    <tr>\n",
       "      <th>61</th>\n",
       "      <td>1061</td>\n",
       "      <td>41</td>\n",
       "      <td>NaN</td>\n",
       "      <td>Санкт-Петербург</td>\n",
       "      <td>Тамара</td>\n",
       "      <td>Ситникова</td>\n",
       "      <td>2018-07-15</td>\n",
       "      <td>smart</td>\n",
       "    </tr>\n",
       "    <tr>\n",
       "      <th>157</th>\n",
       "      <td>1157</td>\n",
       "      <td>27</td>\n",
       "      <td>NaN</td>\n",
       "      <td>Москва</td>\n",
       "      <td>Виктория</td>\n",
       "      <td>Белоусова</td>\n",
       "      <td>2018-02-23</td>\n",
       "      <td>smart</td>\n",
       "    </tr>\n",
       "    <tr>\n",
       "      <th>173</th>\n",
       "      <td>1173</td>\n",
       "      <td>46</td>\n",
       "      <td>NaN</td>\n",
       "      <td>Красноярск</td>\n",
       "      <td>Агафья</td>\n",
       "      <td>Григорьева</td>\n",
       "      <td>2018-06-21</td>\n",
       "      <td>smart</td>\n",
       "    </tr>\n",
       "    <tr>\n",
       "      <th>50</th>\n",
       "      <td>1050</td>\n",
       "      <td>44</td>\n",
       "      <td>2018-10-03</td>\n",
       "      <td>Тюмень</td>\n",
       "      <td>Рузана</td>\n",
       "      <td>Аничкина</td>\n",
       "      <td>2018-06-16</td>\n",
       "      <td>ultra</td>\n",
       "    </tr>\n",
       "    <tr>\n",
       "      <th>311</th>\n",
       "      <td>1311</td>\n",
       "      <td>33</td>\n",
       "      <td>NaN</td>\n",
       "      <td>Тверь</td>\n",
       "      <td>Лолита</td>\n",
       "      <td>Крылова</td>\n",
       "      <td>2018-08-03</td>\n",
       "      <td>smart</td>\n",
       "    </tr>\n",
       "  </tbody>\n",
       "</table>\n",
       "</div>"
      ],
      "text/plain": [
       "     user_id  age  churn_date             city first_name   last_name  \\\n",
       "61      1061   41         NaN  Санкт-Петербург     Тамара   Ситникова   \n",
       "157     1157   27         NaN           Москва   Виктория   Белоусова   \n",
       "173     1173   46         NaN       Красноярск     Агафья  Григорьева   \n",
       "50      1050   44  2018-10-03           Тюмень     Рузана    Аничкина   \n",
       "311     1311   33         NaN            Тверь     Лолита     Крылова   \n",
       "\n",
       "       reg_date tariff  \n",
       "61   2018-07-15  smart  \n",
       "157  2018-02-23  smart  \n",
       "173  2018-06-21  smart  \n",
       "50   2018-06-16  ultra  \n",
       "311  2018-08-03  smart  "
      ]
     },
     "metadata": {},
     "output_type": "display_data"
    },
    {
     "name": "stdout",
     "output_type": "stream",
     "text": [
      "<class 'pandas.core.frame.DataFrame'>\n",
      "RangeIndex: 500 entries, 0 to 499\n",
      "Data columns (total 8 columns):\n",
      " #   Column      Non-Null Count  Dtype \n",
      "---  ------      --------------  ----- \n",
      " 0   user_id     500 non-null    int64 \n",
      " 1   age         500 non-null    int64 \n",
      " 2   churn_date  38 non-null     object\n",
      " 3   city        500 non-null    object\n",
      " 4   first_name  500 non-null    object\n",
      " 5   last_name   500 non-null    object\n",
      " 6   reg_date    500 non-null    object\n",
      " 7   tariff      500 non-null    object\n",
      "dtypes: int64(2), object(6)\n",
      "memory usage: 31.4+ KB\n",
      "\n",
      "Кол-во дубликатов в DataFrame: 0\n",
      "Кол-во дубликатов в user_id: 0\n"
     ]
    }
   ],
   "source": [
    "users\n",
    "display(users.sample(5))\n",
    "users.info()\n",
    "print('\\nКол-во дубликатов в DataFrame:', users.duplicated().sum())\n",
    "print('Кол-во дубликатов в user_id:', users['user_id'].duplicated().sum())"
   ]
  },
  {
   "cell_type": "markdown",
   "metadata": {},
   "source": [
    "- `user_id` — уникальный идентификатор пользователя\n",
    "- `first_name` — имя пользователя\n",
    "- `last_name` — фамилия пользователя\n",
    "- `age` — возраст пользователя (годы)\n",
    "- `reg_date` — дата подключения тарифа (день, месяц, год)\n",
    "- `churn_date` — дата прекращения пользования тарифом (если значение пропущено, то тариф ещё действовал на момент выгрузки данных)\n",
    "- `city` — город проживания пользователя\n",
    "- `tariff` — название тарифного плана"
   ]
  },
  {
   "cell_type": "code",
   "execution_count": 3,
   "metadata": {
    "scrolled": false
   },
   "outputs": [
    {
     "data": {
      "image/png": "[encoded data removed]",
      "text/plain": [
       "<Figure size 720x1296 with 1 Axes>"
      ]
     },
     "metadata": {
      "needs_background": "light"
     },
     "output_type": "display_data"
    },
    {
     "name": "stdout",
     "output_type": "stream",
     "text": [
      "Всего городов: 76\n"
     ]
    }
   ],
   "source": [
    "# Диаграмма №1\n",
    "fig=plt.figure(figsize=(10,18))\n",
    "ax = fig.add_subplot(111)\n",
    "# подписи\n",
    "ax.set_title('Кол-во клиентов в городах',fontsize=20,fontweight='bold')\n",
    "ax.set_xlabel('Кол-во абонентов',fontsize=15)\n",
    "ax.set_ylabel('Город',fontsize=15)\n",
    "\n",
    "# построение barh\n",
    "users['city'].value_counts().sort_values().plot(kind='barh')\n",
    "\n",
    "# сетка\n",
    "ax.grid()\n",
    "\n",
    "plt.show()\n",
    "print('Всего городов:',len(users['city'].unique()))"
   ]
  },
  {
   "cell_type": "markdown",
   "metadata": {},
   "source": [
    "<a id=\"соотношение\"></a> "
   ]
  },
  {
   "cell_type": "code",
   "execution_count": 4,
   "metadata": {},
   "outputs": [
    {
     "data": {
      "image/png": "[encoded data removed]",
      "text/plain": [
       "<Figure size 576x576 with 2 Axes>"
      ]
     },
     "metadata": {},
     "output_type": "display_data"
    },
    {
     "name": "stdout",
     "output_type": "stream",
     "text": [
      "Всего\n",
      "Смарт: 351\n",
      "Ультра: 149\n"
     ]
    }
   ],
   "source": [
    "#Диаграмма №2\n",
    "fig=plt.figure(figsize=(8,8))\n",
    "#Диаграмма №2.1\n",
    "ax1 = fig.add_subplot(121)\n",
    "# подписи\n",
    "ax1.set_title('Москва',fontsize=16,fontweight='bold')\n",
    "\n",
    "# построение pie\n",
    "users.query('city==\"Москва\"')['tariff'].value_counts().sort_values().plot(kind='pie',fontsize=16)\n",
    "ax1.set_ylabel('')\n",
    "\n",
    "\n",
    "#Диаграмма №2.2\n",
    "ax2 = fig.add_subplot(122)\n",
    "# подписи\n",
    "ax2.set_title('Остальные города',fontsize=16,fontweight='bold')\n",
    "\n",
    "# построение pie\n",
    "users.query('city!=\"Москва\"')['tariff'].value_counts().sort_values().plot(kind='pie',fontsize=16)\n",
    "ax2.set_ylabel('')\n",
    "plt.show()\n",
    "\n",
    "# абсолютные величины\n",
    "print('Всего\\nСмарт:',len(users.query('tariff==\"smart\"')))\n",
    "print('Ультра:',len(users.query('tariff==\"ultra\"')))"
   ]
  },
  {
   "cell_type": "markdown",
   "metadata": {},
   "source": [
    "\n",
    "На Москву приходится ~20% выборки, при этом по соотношению тарифов Москва почти не отличается от остальных городов.  \n",
    "Приведем столбцы с датой подключения и отключения тарифа к формату `datetime`. Заполним пропуски `NaN` последним днем 2018 года. Добавим столбец, содержащий время пользования тарифом. Будем хранить это значение в целых числах."
   ]
  },
  {
   "cell_type": "code",
   "execution_count": 5,
   "metadata": {
    "scrolled": true
   },
   "outputs": [],
   "source": [
    "users['reg_date']=pd.to_datetime(users['reg_date'])\n",
    "users['churn_date']=pd.to_datetime(users['churn_date'])\n",
    "users['churn_date']=users['churn_date'].fillna(pd.to_datetime('2018-12-31'))\n",
    "\n",
    "users['days_in']=(users['churn_date']-users['reg_date']).dt.days\n",
    "users['days_in'].describe()\n",
    "\n",
    "#добавим столбец с месяцем регистрации\n",
    "users['reg_month']=users['reg_date'].values.astype('datetime64[M]')"
   ]
  },
  {
   "cell_type": "code",
   "execution_count": 6,
   "metadata": {},
   "outputs": [
    {
     "data": {
      "text/plain": [
       "<matplotlib.legend.Legend at 0x2b6b690fb48>"
      ]
     },
     "execution_count": 6,
     "metadata": {},
     "output_type": "execute_result"
    },
    {
     "data": {
      "image/png": "[encoded data removed]",
      "text/plain": [
       "<Figure size 864x216 with 1 Axes>"
      ]
     },
     "metadata": {
      "needs_background": "light"
     },
     "output_type": "display_data"
    }
   ],
   "source": [
    "users.query('tariff==\"smart\"')['days_in'].hist(bins=100,figsize=(12,3),alpha=0.8)\n",
    "users.query('tariff==\"ultra\"')['days_in'].hist(bins=100,figsize=(12,3),alpha=0.8)\n",
    "plt.xlabel('Дней с тарифом',fontsize=15)\n",
    "plt.ylabel('Кол-во абонентов',fontsize=15)\n",
    "plt.legend(['smart','ultra'],fontsize=15)"
   ]
  },
  {
   "cell_type": "markdown",
   "metadata": {},
   "source": [
    "Судя по гистограмме, пользователи более-менее равномерно подключали тариф в течение года (отключились только 38 из 500 клиентов)."
   ]
  },
  {
   "cell_type": "markdown",
   "metadata": {},
   "source": [
    "### tariffs.csv  \n",
    "[в начало](#назад)"
   ]
  },
  {
   "cell_type": "code",
   "execution_count": 7,
   "metadata": {},
   "outputs": [
    {
     "data": {
      "text/html": [
       "<div>\n",
       "<style scoped>\n",
       "    .dataframe tbody tr th:only-of-type {\n",
       "        vertical-align: middle;\n",
       "    }\n",
       "\n",
       "    .dataframe tbody tr th {\n",
       "        vertical-align: top;\n",
       "    }\n",
       "\n",
       "    .dataframe thead th {\n",
       "        text-align: right;\n",
       "    }\n",
       "</style>\n",
       "<table border=\"1\" class=\"dataframe\">\n",
       "  <thead>\n",
       "    <tr style=\"text-align: right;\">\n",
       "      <th></th>\n",
       "      <th>messages_included</th>\n",
       "      <th>mb_per_month_included</th>\n",
       "      <th>minutes_included</th>\n",
       "      <th>rub_monthly_fee</th>\n",
       "      <th>rub_per_gb</th>\n",
       "      <th>rub_per_message</th>\n",
       "      <th>rub_per_minute</th>\n",
       "      <th>tariff_name</th>\n",
       "    </tr>\n",
       "  </thead>\n",
       "  <tbody>\n",
       "    <tr>\n",
       "      <th>0</th>\n",
       "      <td>50</td>\n",
       "      <td>15360</td>\n",
       "      <td>500</td>\n",
       "      <td>550</td>\n",
       "      <td>200</td>\n",
       "      <td>3</td>\n",
       "      <td>3</td>\n",
       "      <td>smart</td>\n",
       "    </tr>\n",
       "    <tr>\n",
       "      <th>1</th>\n",
       "      <td>1000</td>\n",
       "      <td>30720</td>\n",
       "      <td>3000</td>\n",
       "      <td>1950</td>\n",
       "      <td>150</td>\n",
       "      <td>1</td>\n",
       "      <td>1</td>\n",
       "      <td>ultra</td>\n",
       "    </tr>\n",
       "  </tbody>\n",
       "</table>\n",
       "</div>"
      ],
      "text/plain": [
       "   messages_included  mb_per_month_included  minutes_included  \\\n",
       "0                 50                  15360               500   \n",
       "1               1000                  30720              3000   \n",
       "\n",
       "   rub_monthly_fee  rub_per_gb  rub_per_message  rub_per_minute tariff_name  \n",
       "0              550         200                3               3       smart  \n",
       "1             1950         150                1               1       ultra  "
      ]
     },
     "metadata": {},
     "output_type": "display_data"
    },
    {
     "name": "stdout",
     "output_type": "stream",
     "text": [
      "<class 'pandas.core.frame.DataFrame'>\n",
      "RangeIndex: 2 entries, 0 to 1\n",
      "Data columns (total 8 columns):\n",
      " #   Column                 Non-Null Count  Dtype \n",
      "---  ------                 --------------  ----- \n",
      " 0   messages_included      2 non-null      int64 \n",
      " 1   mb_per_month_included  2 non-null      int64 \n",
      " 2   minutes_included       2 non-null      int64 \n",
      " 3   rub_monthly_fee        2 non-null      int64 \n",
      " 4   rub_per_gb             2 non-null      int64 \n",
      " 5   rub_per_message        2 non-null      int64 \n",
      " 6   rub_per_minute         2 non-null      int64 \n",
      " 7   tariff_name            2 non-null      object\n",
      "dtypes: int64(7), object(1)\n",
      "memory usage: 256.0+ bytes\n"
     ]
    }
   ],
   "source": [
    "display(tariffs)\n",
    "tariffs.info()"
   ]
  },
  {
   "cell_type": "markdown",
   "metadata": {},
   "source": [
    "- `tariff_name` — название тарифа\n",
    "- `rub_monthly_fee` — ежемесячная абонентская плата в рублях\n",
    "- `minutes_included` — количество минут разговора в месяц, включённых в абонентскую плату\n",
    "- `messages_included` — количество сообщений в месяц, включённых в абонентскую плату\n",
    "- `mb_per_month_included` — объём интернет-трафика, включённого в абонентскую плату (в мегабайтах)\n",
    "- `rub_per_minute` — стоимость минуты разговора сверх тарифного пакета (например, если в тарифе 100 минут разговора в месяц, то со 101 минуты будет взиматься плата)\n",
    "- `rub_per_message` — стоимость отправки сообщения сверх тарифного пакета\n",
    "- `rub_per_gb` — стоимость дополнительного гигабайта интернет-трафика сверх тарифного пакета (1 гигабайт = 1024 мегабайта)  \n",
    "  \n",
    "Ради удобства в будущем, переименуем столбец `tariff_name` так же, как столбец с этой информацией в таблице `users`"
   ]
  },
  {
   "cell_type": "code",
   "execution_count": 8,
   "metadata": {},
   "outputs": [],
   "source": [
    "tariffs.columns=['messages_included', 'mb_per_month_included', 'minutes_included',\n",
    "       'rub_monthly_fee', 'rub_per_gb', 'rub_per_message', 'rub_per_minute',\n",
    "       'tariff']"
   ]
  },
  {
   "cell_type": "markdown",
   "metadata": {},
   "source": [
    "### calls.csv  \n",
    "[в начало](#назад1)"
   ]
  },
  {
   "cell_type": "code",
   "execution_count": 9,
   "metadata": {},
   "outputs": [
    {
     "data": {
      "text/html": [
       "<div>\n",
       "<style scoped>\n",
       "    .dataframe tbody tr th:only-of-type {\n",
       "        vertical-align: middle;\n",
       "    }\n",
       "\n",
       "    .dataframe tbody tr th {\n",
       "        vertical-align: top;\n",
       "    }\n",
       "\n",
       "    .dataframe thead th {\n",
       "        text-align: right;\n",
       "    }\n",
       "</style>\n",
       "<table border=\"1\" class=\"dataframe\">\n",
       "  <thead>\n",
       "    <tr style=\"text-align: right;\">\n",
       "      <th></th>\n",
       "      <th>id</th>\n",
       "      <th>call_date</th>\n",
       "      <th>duration</th>\n",
       "      <th>user_id</th>\n",
       "    </tr>\n",
       "  </thead>\n",
       "  <tbody>\n",
       "    <tr>\n",
       "      <th>180934</th>\n",
       "      <td>1453_126</td>\n",
       "      <td>2018-05-23</td>\n",
       "      <td>10.10</td>\n",
       "      <td>1453</td>\n",
       "    </tr>\n",
       "    <tr>\n",
       "      <th>111105</th>\n",
       "      <td>1285_33</td>\n",
       "      <td>2018-12-22</td>\n",
       "      <td>5.87</td>\n",
       "      <td>1285</td>\n",
       "    </tr>\n",
       "    <tr>\n",
       "      <th>3692</th>\n",
       "      <td>1009_231</td>\n",
       "      <td>2018-11-30</td>\n",
       "      <td>2.27</td>\n",
       "      <td>1009</td>\n",
       "    </tr>\n",
       "    <tr>\n",
       "      <th>190622</th>\n",
       "      <td>1469_241</td>\n",
       "      <td>2018-09-26</td>\n",
       "      <td>0.00</td>\n",
       "      <td>1469</td>\n",
       "    </tr>\n",
       "    <tr>\n",
       "      <th>30505</th>\n",
       "      <td>1077_77</td>\n",
       "      <td>2018-10-29</td>\n",
       "      <td>0.00</td>\n",
       "      <td>1077</td>\n",
       "    </tr>\n",
       "  </tbody>\n",
       "</table>\n",
       "</div>"
      ],
      "text/plain": [
       "              id   call_date  duration  user_id\n",
       "180934  1453_126  2018-05-23     10.10     1453\n",
       "111105   1285_33  2018-12-22      5.87     1285\n",
       "3692    1009_231  2018-11-30      2.27     1009\n",
       "190622  1469_241  2018-09-26      0.00     1469\n",
       "30505    1077_77  2018-10-29      0.00     1077"
      ]
     },
     "metadata": {},
     "output_type": "display_data"
    },
    {
     "name": "stdout",
     "output_type": "stream",
     "text": [
      "<class 'pandas.core.frame.DataFrame'>\n",
      "RangeIndex: 202607 entries, 0 to 202606\n",
      "Data columns (total 4 columns):\n",
      " #   Column     Non-Null Count   Dtype  \n",
      "---  ------     --------------   -----  \n",
      " 0   id         202607 non-null  object \n",
      " 1   call_date  202607 non-null  object \n",
      " 2   duration   202607 non-null  float64\n",
      " 3   user_id    202607 non-null  int64  \n",
      "dtypes: float64(1), int64(1), object(2)\n",
      "memory usage: 6.2+ MB\n",
      "\n",
      "Кол-во дубликатов в DataFrame: 0\n"
     ]
    }
   ],
   "source": [
    "calls\n",
    "display(calls.sample(5))\n",
    "calls.info()\n",
    "print('\\nКол-во дубликатов в DataFrame:', calls.duplicated().sum())"
   ]
  },
  {
   "cell_type": "markdown",
   "metadata": {},
   "source": [
    "- `id` — уникальный номер звонка\n",
    "- `call_date` — дата звонка\n",
    "- `duration` — длительность звонка в минутах\n",
    "- `user_id` — идентификатор пользователя, сделавшего звонок"
   ]
  },
  {
   "cell_type": "code",
   "execution_count": 10,
   "metadata": {
    "scrolled": true
   },
   "outputs": [
    {
     "name": "stdout",
     "output_type": "stream",
     "text": [
      "Звонков с нулевой длительностью: 39613\n"
     ]
    },
    {
     "data": {
      "image/png": "[encoded data removed]",
      "text/plain": [
       "<Figure size 432x288 with 1 Axes>"
      ]
     },
     "metadata": {
      "needs_background": "light"
     },
     "output_type": "display_data"
    }
   ],
   "source": [
    "calls['duration'].hist(bins=50)\n",
    "plt.xlabel('Длительность звонка, мин',fontsize=15)\n",
    "plt.ylabel('Кол-во звонков',fontsize=15)\n",
    "\n",
    "print('Звонков с нулевой длительностью:',len(calls.query('duration==0')))"
   ]
  },
  {
   "cell_type": "markdown",
   "metadata": {},
   "source": [
    "Основных версии две:\n",
    "- нулевые звонки — это пропущенные вызовы\n",
    "- нулевые звонки на самом деле не нулевые, а нули в таблице образовались из-за округления  \n",
    "  \n",
    "Переведем дату в формат `datetime` и округлим время звонка до целого, как это принято у оператора (до целого вверх):"
   ]
  },
  {
   "cell_type": "code",
   "execution_count": 11,
   "metadata": {},
   "outputs": [],
   "source": [
    "# перевод даты в формат datetime\n",
    "calls['call_date']=pd.to_datetime(calls['call_date'])\n",
    "calls['duration']=calls['duration'].apply(mt.ceil)"
   ]
  },
  {
   "cell_type": "markdown",
   "metadata": {},
   "source": [
    "### messages.csv  \n",
    "[в начало](#назад)"
   ]
  },
  {
   "cell_type": "code",
   "execution_count": 12,
   "metadata": {},
   "outputs": [
    {
     "data": {
      "text/html": [
       "<div>\n",
       "<style scoped>\n",
       "    .dataframe tbody tr th:only-of-type {\n",
       "        vertical-align: middle;\n",
       "    }\n",
       "\n",
       "    .dataframe tbody tr th {\n",
       "        vertical-align: top;\n",
       "    }\n",
       "\n",
       "    .dataframe thead th {\n",
       "        text-align: right;\n",
       "    }\n",
       "</style>\n",
       "<table border=\"1\" class=\"dataframe\">\n",
       "  <thead>\n",
       "    <tr style=\"text-align: right;\">\n",
       "      <th></th>\n",
       "      <th>id</th>\n",
       "      <th>message_date</th>\n",
       "      <th>user_id</th>\n",
       "    </tr>\n",
       "  </thead>\n",
       "  <tbody>\n",
       "    <tr>\n",
       "      <th>106720</th>\n",
       "      <td>1431_462</td>\n",
       "      <td>2018-08-03</td>\n",
       "      <td>1431</td>\n",
       "    </tr>\n",
       "    <tr>\n",
       "      <th>74396</th>\n",
       "      <td>1314_247</td>\n",
       "      <td>2018-08-31</td>\n",
       "      <td>1314</td>\n",
       "    </tr>\n",
       "    <tr>\n",
       "      <th>7097</th>\n",
       "      <td>1030_8</td>\n",
       "      <td>2018-07-20</td>\n",
       "      <td>1030</td>\n",
       "    </tr>\n",
       "    <tr>\n",
       "      <th>114522</th>\n",
       "      <td>1465_414</td>\n",
       "      <td>2018-11-19</td>\n",
       "      <td>1465</td>\n",
       "    </tr>\n",
       "    <tr>\n",
       "      <th>88850</th>\n",
       "      <td>1372_270</td>\n",
       "      <td>2018-05-12</td>\n",
       "      <td>1372</td>\n",
       "    </tr>\n",
       "  </tbody>\n",
       "</table>\n",
       "</div>"
      ],
      "text/plain": [
       "              id message_date  user_id\n",
       "106720  1431_462   2018-08-03     1431\n",
       "74396   1314_247   2018-08-31     1314\n",
       "7097      1030_8   2018-07-20     1030\n",
       "114522  1465_414   2018-11-19     1465\n",
       "88850   1372_270   2018-05-12     1372"
      ]
     },
     "metadata": {},
     "output_type": "display_data"
    },
    {
     "name": "stdout",
     "output_type": "stream",
     "text": [
      "<class 'pandas.core.frame.DataFrame'>\n",
      "RangeIndex: 123036 entries, 0 to 123035\n",
      "Data columns (total 3 columns):\n",
      " #   Column        Non-Null Count   Dtype \n",
      "---  ------        --------------   ----- \n",
      " 0   id            123036 non-null  object\n",
      " 1   message_date  123036 non-null  object\n",
      " 2   user_id       123036 non-null  int64 \n",
      "dtypes: int64(1), object(2)\n",
      "memory usage: 2.8+ MB\n",
      "\n",
      "Кол-во дубликатов в DataFrame: 0\n"
     ]
    }
   ],
   "source": [
    "messages\n",
    "display(messages.sample(5))\n",
    "messages.info()\n",
    "print('\\nКол-во дубликатов в DataFrame:', messages.duplicated().sum())"
   ]
  },
  {
   "cell_type": "markdown",
   "metadata": {},
   "source": [
    "- `id` — уникальный номер сообщения\n",
    "- `message_date` — дата сообщения\n",
    "- `user_id` — идентификатор пользователя, отправившего сообщение"
   ]
  },
  {
   "cell_type": "code",
   "execution_count": 13,
   "metadata": {},
   "outputs": [],
   "source": [
    "# перевод даты в формат datetime\n",
    "messages['message_date']=pd.to_datetime(messages['message_date'])"
   ]
  },
  {
   "cell_type": "markdown",
   "metadata": {},
   "source": [
    "### internet.csv  \n",
    "[в начало](#назад)"
   ]
  },
  {
   "cell_type": "code",
   "execution_count": 14,
   "metadata": {},
   "outputs": [
    {
     "data": {
      "text/html": [
       "<div>\n",
       "<style scoped>\n",
       "    .dataframe tbody tr th:only-of-type {\n",
       "        vertical-align: middle;\n",
       "    }\n",
       "\n",
       "    .dataframe tbody tr th {\n",
       "        vertical-align: top;\n",
       "    }\n",
       "\n",
       "    .dataframe thead th {\n",
       "        text-align: right;\n",
       "    }\n",
       "</style>\n",
       "<table border=\"1\" class=\"dataframe\">\n",
       "  <thead>\n",
       "    <tr style=\"text-align: right;\">\n",
       "      <th></th>\n",
       "      <th>Unnamed: 0</th>\n",
       "      <th>id</th>\n",
       "      <th>mb_used</th>\n",
       "      <th>session_date</th>\n",
       "      <th>user_id</th>\n",
       "    </tr>\n",
       "  </thead>\n",
       "  <tbody>\n",
       "    <tr>\n",
       "      <th>57709</th>\n",
       "      <td>57709</td>\n",
       "      <td>1193_248</td>\n",
       "      <td>200.87</td>\n",
       "      <td>2018-09-21</td>\n",
       "      <td>1193</td>\n",
       "    </tr>\n",
       "    <tr>\n",
       "      <th>128636</th>\n",
       "      <td>128636</td>\n",
       "      <td>1430_58</td>\n",
       "      <td>578.85</td>\n",
       "      <td>2018-07-22</td>\n",
       "      <td>1430</td>\n",
       "    </tr>\n",
       "    <tr>\n",
       "      <th>50172</th>\n",
       "      <td>50172</td>\n",
       "      <td>1172_454</td>\n",
       "      <td>238.64</td>\n",
       "      <td>2018-08-26</td>\n",
       "      <td>1172</td>\n",
       "    </tr>\n",
       "    <tr>\n",
       "      <th>43656</th>\n",
       "      <td>43656</td>\n",
       "      <td>1150_86</td>\n",
       "      <td>66.52</td>\n",
       "      <td>2018-12-19</td>\n",
       "      <td>1150</td>\n",
       "    </tr>\n",
       "    <tr>\n",
       "      <th>106868</th>\n",
       "      <td>106868</td>\n",
       "      <td>1362_98</td>\n",
       "      <td>12.72</td>\n",
       "      <td>2018-08-05</td>\n",
       "      <td>1362</td>\n",
       "    </tr>\n",
       "  </tbody>\n",
       "</table>\n",
       "</div>"
      ],
      "text/plain": [
       "        Unnamed: 0        id  mb_used session_date  user_id\n",
       "57709        57709  1193_248   200.87   2018-09-21     1193\n",
       "128636      128636   1430_58   578.85   2018-07-22     1430\n",
       "50172        50172  1172_454   238.64   2018-08-26     1172\n",
       "43656        43656   1150_86    66.52   2018-12-19     1150\n",
       "106868      106868   1362_98    12.72   2018-08-05     1362"
      ]
     },
     "metadata": {},
     "output_type": "display_data"
    },
    {
     "name": "stdout",
     "output_type": "stream",
     "text": [
      "<class 'pandas.core.frame.DataFrame'>\n",
      "RangeIndex: 149396 entries, 0 to 149395\n",
      "Data columns (total 5 columns):\n",
      " #   Column        Non-Null Count   Dtype  \n",
      "---  ------        --------------   -----  \n",
      " 0   Unnamed: 0    149396 non-null  int64  \n",
      " 1   id            149396 non-null  object \n",
      " 2   mb_used       149396 non-null  float64\n",
      " 3   session_date  149396 non-null  object \n",
      " 4   user_id       149396 non-null  int64  \n",
      "dtypes: float64(1), int64(2), object(2)\n",
      "memory usage: 5.7+ MB\n",
      "\n",
      "Кол-во дубликатов в DataFrame: 0\n"
     ]
    }
   ],
   "source": [
    "internet\n",
    "display(internet.sample(5))\n",
    "internet.info()\n",
    "print('\\nКол-во дубликатов в DataFrame:', internet.duplicated().sum())"
   ]
  },
  {
   "cell_type": "markdown",
   "metadata": {},
   "source": [
    "- `id` — уникальный номер сессии\n",
    "- `mb_used` — объём потраченного за сессию интернет-трафика (в мегабайтах)\n",
    "- `session_date` — дата интернет-сессии\n",
    "- `user_id` — идентификатор пользователя"
   ]
  },
  {
   "cell_type": "code",
   "execution_count": 15,
   "metadata": {},
   "outputs": [
    {
     "name": "stdout",
     "output_type": "stream",
     "text": [
      "Кол-во сессий с нулевым трафиком: 19598\n"
     ]
    },
    {
     "data": {
      "text/plain": [
       "Text(0, 0.5, 'Кол-во сессий')"
      ]
     },
     "execution_count": 15,
     "metadata": {},
     "output_type": "execute_result"
    },
    {
     "data": {
      "image/png": "[encoded data removed]",
      "text/plain": [
       "<Figure size 432x288 with 1 Axes>"
      ]
     },
     "metadata": {
      "needs_background": "light"
     },
     "output_type": "display_data"
    }
   ],
   "source": [
    "internet=internet[['id','mb_used','session_date','user_id']]\n",
    "internet['session_date']=pd.to_datetime(internet['session_date'])\n",
    "internet['mb_used']=internet['mb_used'].apply(mt.ceil)\n",
    "print('Кол-во сессий с нулевым трафиком:',internet.query('mb_used==0')['mb_used'].count())\n",
    "internet['mb_used'].hist(bins=60)\n",
    "plt.xlabel('Интернет-трафик, Мб',fontsize=15)\n",
    "plt.ylabel('Кол-во сессий',fontsize=15)"
   ]
  },
  {
   "cell_type": "markdown",
   "metadata": {},
   "source": [
    "Как и в случае со звонками, в данных высокий процент сессий с нулевым трафиком. Если в случае со звонками можно было предположить, что это пропущенные вызовы, то что предположить об интернет соединении?"
   ]
  },
  {
   "cell_type": "code",
   "execution_count": 16,
   "metadata": {},
   "outputs": [
    {
     "name": "stdout",
     "output_type": "stream",
     "text": [
      "Кол-во уникальных пользователей с нулевым трафиком 494\n",
      "Кол-во уникальных пользователей со странными звонками 492\n"
     ]
    }
   ],
   "source": [
    "print('Кол-во уникальных пользователей с нулевым трафиком', len(internet.query('mb_used==0')['user_id'].unique()))\n",
    "print('Кол-во уникальных пользователей со странными звонками', len(calls.query('duration==0')['user_id'].unique()))"
   ]
  },
  {
   "cell_type": "markdown",
   "metadata": {},
   "source": [
    "Похоже, явление нулевых звонков и сессий с нулевым трафиком охватывает всё множество пользователей."
   ]
  },
  {
   "cell_type": "code",
   "execution_count": 17,
   "metadata": {},
   "outputs": [
    {
     "data": {
      "text/plain": [
       "count    494.000000\n",
       "mean      39.672065\n",
       "std       31.347392\n",
       "min        1.000000\n",
       "25%       13.000000\n",
       "50%       31.000000\n",
       "75%       62.750000\n",
       "max      144.000000\n",
       "Name: id, dtype: float64"
      ]
     },
     "execution_count": 17,
     "metadata": {},
     "output_type": "execute_result"
    }
   ],
   "source": [
    "internet.query('mb_used==0').groupby('user_id')['id'].count().describe()"
   ]
  },
  {
   "cell_type": "markdown",
   "metadata": {},
   "source": [
    "Если предположить, что нули — это потери округления при выгрузке, которые оператор на самом деле приравнивает к сессиям с трафиком в 1 Мб или временем разговора в одну минуту: "
   ]
  },
  {
   "cell_type": "code",
   "execution_count": 18,
   "metadata": {},
   "outputs": [
    {
     "name": "stdout",
     "output_type": "stream",
     "text": [
      "-------------------\n",
      "Интернет\n",
      "-------------------\n"
     ]
    },
    {
     "data": {
      "text/plain": [
       "count    494.000000\n",
       "mean      39.672065\n",
       "std       31.347392\n",
       "min        1.000000\n",
       "25%       13.000000\n",
       "50%       31.000000\n",
       "75%       62.750000\n",
       "max      144.000000\n",
       "Name: id, dtype: float64"
      ]
     },
     "metadata": {},
     "output_type": "display_data"
    },
    {
     "name": "stdout",
     "output_type": "stream",
     "text": [
      "-------------------\n",
      "Звонки\n",
      "-------------------\n"
     ]
    },
    {
     "data": {
      "text/plain": [
       "count    492.000000\n",
       "mean      80.514228\n",
       "std       57.484309\n",
       "min        5.000000\n",
       "25%       35.750000\n",
       "50%       66.000000\n",
       "75%      114.000000\n",
       "max      336.000000\n",
       "Name: id, dtype: float64"
      ]
     },
     "metadata": {},
     "output_type": "display_data"
    }
   ],
   "source": [
    "print('-------------------\\nИнтернет\\n-------------------')\n",
    "display(internet.query('mb_used==0').groupby('user_id')['id'].count().describe())\n",
    "print('-------------------\\nЗвонки\\n-------------------')\n",
    "display(calls.query('duration==0').groupby('user_id')['id'].count().describe())"
   ]
  },
  {
   "cell_type": "markdown",
   "metadata": {},
   "source": [
    "В случае с интернетом, величина при округлении не особенно впечатляет: в пределе 144 Мб, а в среднем клиент предположительно потеряет 30-40Мб на таком холостом трафике, что составляет менее процента.\n",
    "В случае со звонками пользователь в среднем теряет 60-80 мин.  "
   ]
  },
  {
   "cell_type": "markdown",
   "metadata": {},
   "source": [
    "# Обработка  \n",
    "<a id=\"подготовка\"></a> \n",
    "### Подготовка отчета  \n",
    "[в начало](#назад)"
   ]
  },
  {
   "cell_type": "markdown",
   "metadata": {},
   "source": [
    "Подготовим DataFrame `df` для сбора отчета по месяцам:"
   ]
  },
  {
   "cell_type": "code",
   "execution_count": 19,
   "metadata": {},
   "outputs": [],
   "source": [
    "# генерация DataFrame столбца всех месяцев, входящих в отчетный период:\n",
    "dr=pd.DataFrame(pd.date_range(pd.to_datetime('2018-01-01'),pd.to_datetime('2018-12-01'),freq='MS'))\n",
    "dr.columns = ['month']\n",
    "\n",
    "# добавление ключей для merge()\n",
    "dr['key'] = 1\n",
    "users['key'] = 1\n",
    "\n",
    "# кросс джоин:\n",
    "df = dr.merge(users,on='key')\n",
    "df=df[['month','user_id','city','reg_month','churn_date','tariff']]\n",
    "\n",
    "# удаление месяцев, в которых пользователь ещё/уже не зарегистрирован\n",
    "df=df.query('reg_month<=month<=churn_date')"
   ]
  },
  {
   "cell_type": "markdown",
   "metadata": {},
   "source": [
    "<a id=\"сумма_по_месяцам\"></a> \n",
    "### Подсчет суммы звонков, интернет трафика и сообщений по месяцам  \n",
    "[в начало](#назад)"
   ]
  },
  {
   "cell_type": "markdown",
   "metadata": {},
   "source": [
    "Сгруппируем и посчитаем сумму длительности звонков за месяц:"
   ]
  },
  {
   "cell_type": "code",
   "execution_count": 20,
   "metadata": {},
   "outputs": [],
   "source": [
    "# добавим столбец с месяцем звонка\n",
    "calls['month'] = calls['call_date'].values.astype('datetime64[M]')\n",
    "\n",
    "# сгруппируем по месяцам, посчитаем суммарную длительность звонков и сохраним в DataFrame call_month\n",
    "calls_month = calls.groupby(['user_id','month'])[['duration']].agg(['sum']).reset_index()\n",
    "\n",
    "# новые названия столбцов\n",
    "calls_month.columns=['user_id','month','calls_duration']"
   ]
  },
  {
   "cell_type": "markdown",
   "metadata": {},
   "source": [
    "Добавим данные `calls_month` к отчетному `df`"
   ]
  },
  {
   "cell_type": "code",
   "execution_count": 21,
   "metadata": {},
   "outputs": [
    {
     "data": {
      "text/html": [
       "<div>\n",
       "<style scoped>\n",
       "    .dataframe tbody tr th:only-of-type {\n",
       "        vertical-align: middle;\n",
       "    }\n",
       "\n",
       "    .dataframe tbody tr th {\n",
       "        vertical-align: top;\n",
       "    }\n",
       "\n",
       "    .dataframe thead th {\n",
       "        text-align: right;\n",
       "    }\n",
       "</style>\n",
       "<table border=\"1\" class=\"dataframe\">\n",
       "  <thead>\n",
       "    <tr style=\"text-align: right;\">\n",
       "      <th></th>\n",
       "      <th>month</th>\n",
       "      <th>user_id</th>\n",
       "      <th>city</th>\n",
       "      <th>reg_month</th>\n",
       "      <th>churn_date</th>\n",
       "      <th>tariff</th>\n",
       "      <th>calls_duration</th>\n",
       "    </tr>\n",
       "  </thead>\n",
       "  <tbody>\n",
       "    <tr>\n",
       "      <th>406</th>\n",
       "      <td>2018-05-01</td>\n",
       "      <td>1000</td>\n",
       "      <td>Краснодар</td>\n",
       "      <td>2018-05-01</td>\n",
       "      <td>2018-12-31</td>\n",
       "      <td>ultra</td>\n",
       "      <td>159.0</td>\n",
       "    </tr>\n",
       "    <tr>\n",
       "      <th>614</th>\n",
       "      <td>2018-06-01</td>\n",
       "      <td>1000</td>\n",
       "      <td>Краснодар</td>\n",
       "      <td>2018-05-01</td>\n",
       "      <td>2018-12-31</td>\n",
       "      <td>ultra</td>\n",
       "      <td>172.0</td>\n",
       "    </tr>\n",
       "    <tr>\n",
       "      <th>862</th>\n",
       "      <td>2018-07-01</td>\n",
       "      <td>1000</td>\n",
       "      <td>Краснодар</td>\n",
       "      <td>2018-05-01</td>\n",
       "      <td>2018-12-31</td>\n",
       "      <td>ultra</td>\n",
       "      <td>340.0</td>\n",
       "    </tr>\n",
       "    <tr>\n",
       "      <th>1154</th>\n",
       "      <td>2018-08-01</td>\n",
       "      <td>1000</td>\n",
       "      <td>Краснодар</td>\n",
       "      <td>2018-05-01</td>\n",
       "      <td>2018-12-31</td>\n",
       "      <td>ultra</td>\n",
       "      <td>408.0</td>\n",
       "    </tr>\n",
       "    <tr>\n",
       "      <th>1496</th>\n",
       "      <td>2018-09-01</td>\n",
       "      <td>1000</td>\n",
       "      <td>Краснодар</td>\n",
       "      <td>2018-05-01</td>\n",
       "      <td>2018-12-31</td>\n",
       "      <td>ultra</td>\n",
       "      <td>466.0</td>\n",
       "    </tr>\n",
       "    <tr>\n",
       "      <th>1871</th>\n",
       "      <td>2018-10-01</td>\n",
       "      <td>1000</td>\n",
       "      <td>Краснодар</td>\n",
       "      <td>2018-05-01</td>\n",
       "      <td>2018-12-31</td>\n",
       "      <td>ultra</td>\n",
       "      <td>350.0</td>\n",
       "    </tr>\n",
       "    <tr>\n",
       "      <th>2288</th>\n",
       "      <td>2018-11-01</td>\n",
       "      <td>1000</td>\n",
       "      <td>Краснодар</td>\n",
       "      <td>2018-05-01</td>\n",
       "      <td>2018-12-31</td>\n",
       "      <td>ultra</td>\n",
       "      <td>338.0</td>\n",
       "    </tr>\n",
       "    <tr>\n",
       "      <th>2738</th>\n",
       "      <td>2018-12-01</td>\n",
       "      <td>1000</td>\n",
       "      <td>Краснодар</td>\n",
       "      <td>2018-05-01</td>\n",
       "      <td>2018-12-31</td>\n",
       "      <td>ultra</td>\n",
       "      <td>333.0</td>\n",
       "    </tr>\n",
       "  </tbody>\n",
       "</table>\n",
       "</div>"
      ],
      "text/plain": [
       "          month  user_id       city  reg_month churn_date tariff  \\\n",
       "406  2018-05-01     1000  Краснодар 2018-05-01 2018-12-31  ultra   \n",
       "614  2018-06-01     1000  Краснодар 2018-05-01 2018-12-31  ultra   \n",
       "862  2018-07-01     1000  Краснодар 2018-05-01 2018-12-31  ultra   \n",
       "1154 2018-08-01     1000  Краснодар 2018-05-01 2018-12-31  ultra   \n",
       "1496 2018-09-01     1000  Краснодар 2018-05-01 2018-12-31  ultra   \n",
       "1871 2018-10-01     1000  Краснодар 2018-05-01 2018-12-31  ultra   \n",
       "2288 2018-11-01     1000  Краснодар 2018-05-01 2018-12-31  ultra   \n",
       "2738 2018-12-01     1000  Краснодар 2018-05-01 2018-12-31  ultra   \n",
       "\n",
       "      calls_duration  \n",
       "406            159.0  \n",
       "614            172.0  \n",
       "862            340.0  \n",
       "1154           408.0  \n",
       "1496           466.0  \n",
       "1871           350.0  \n",
       "2288           338.0  \n",
       "2738           333.0  "
      ]
     },
     "execution_count": 21,
     "metadata": {},
     "output_type": "execute_result"
    }
   ],
   "source": [
    "df = df.merge(calls_month,how='left',on=['user_id','month'])\n",
    "df.query('user_id==1000')"
   ]
  },
  {
   "cell_type": "markdown",
   "metadata": {},
   "source": [
    "Повторим операцию для [`internet`](#internet.csv)"
   ]
  },
  {
   "cell_type": "code",
   "execution_count": 22,
   "metadata": {},
   "outputs": [],
   "source": [
    "# добавим столбец с месяцем сессии\n",
    "internet['month'] = internet['session_date'].values.astype('datetime64[M]')\n",
    "\n",
    "# сгруппируем по месяцам, посчитаем суммарный трафик и сохраним в DataFrame mb_month\n",
    "mb_month = internet.groupby(['user_id','month'])[['mb_used']].agg(['sum']).reset_index()\n",
    "\n",
    "# новые названия столбцов\n",
    "mb_month.columns=['user_id','month','mb_used']\n",
    "\n",
    "# merge() к df \n",
    "df = df.merge(mb_month,how='left',on=['user_id','month'])"
   ]
  },
  {
   "cell_type": "markdown",
   "metadata": {},
   "source": [
    "...и [`messages`](#messages.csv)"
   ]
  },
  {
   "cell_type": "code",
   "execution_count": 23,
   "metadata": {},
   "outputs": [],
   "source": [
    "# добавим столбец с месяцем отправленного сообщения\n",
    "messages['month'] = messages['message_date'].values.astype('datetime64[M]')\n",
    "\n",
    "# сгруппируем по месяцам, посчитаем суммарный трафик и сохраним в DataFrame mb_month\n",
    "messages_month = messages.groupby(['user_id','month'])[['id']].agg(['count']).reset_index()\n",
    "\n",
    "# новые названия столбцов\n",
    "messages_month.columns=['user_id','month','messages']\n",
    "\n",
    "# merge() к df \n",
    "df = df.merge(messages_month,how='left',on=['user_id','month'])\n",
    "df=df.fillna(0)"
   ]
  },
  {
   "cell_type": "markdown",
   "metadata": {},
   "source": [
    "Посмотрим, что получилось:"
   ]
  },
  {
   "cell_type": "code",
   "execution_count": 24,
   "metadata": {
    "scrolled": true
   },
   "outputs": [
    {
     "data": {
      "text/html": [
       "<div>\n",
       "<style scoped>\n",
       "    .dataframe tbody tr th:only-of-type {\n",
       "        vertical-align: middle;\n",
       "    }\n",
       "\n",
       "    .dataframe tbody tr th {\n",
       "        vertical-align: top;\n",
       "    }\n",
       "\n",
       "    .dataframe thead th {\n",
       "        text-align: right;\n",
       "    }\n",
       "</style>\n",
       "<table border=\"1\" class=\"dataframe\">\n",
       "  <thead>\n",
       "    <tr style=\"text-align: right;\">\n",
       "      <th></th>\n",
       "      <th>month</th>\n",
       "      <th>user_id</th>\n",
       "      <th>city</th>\n",
       "      <th>reg_month</th>\n",
       "      <th>churn_date</th>\n",
       "      <th>tariff</th>\n",
       "      <th>calls_duration</th>\n",
       "      <th>mb_used</th>\n",
       "      <th>messages</th>\n",
       "    </tr>\n",
       "  </thead>\n",
       "  <tbody>\n",
       "    <tr>\n",
       "      <th>406</th>\n",
       "      <td>2018-05-01</td>\n",
       "      <td>1000</td>\n",
       "      <td>Краснодар</td>\n",
       "      <td>2018-05-01</td>\n",
       "      <td>2018-12-31</td>\n",
       "      <td>ultra</td>\n",
       "      <td>159.0</td>\n",
       "      <td>2256.0</td>\n",
       "      <td>22.0</td>\n",
       "    </tr>\n",
       "    <tr>\n",
       "      <th>614</th>\n",
       "      <td>2018-06-01</td>\n",
       "      <td>1000</td>\n",
       "      <td>Краснодар</td>\n",
       "      <td>2018-05-01</td>\n",
       "      <td>2018-12-31</td>\n",
       "      <td>ultra</td>\n",
       "      <td>172.0</td>\n",
       "      <td>23257.0</td>\n",
       "      <td>60.0</td>\n",
       "    </tr>\n",
       "    <tr>\n",
       "      <th>862</th>\n",
       "      <td>2018-07-01</td>\n",
       "      <td>1000</td>\n",
       "      <td>Краснодар</td>\n",
       "      <td>2018-05-01</td>\n",
       "      <td>2018-12-31</td>\n",
       "      <td>ultra</td>\n",
       "      <td>340.0</td>\n",
       "      <td>14016.0</td>\n",
       "      <td>75.0</td>\n",
       "    </tr>\n",
       "    <tr>\n",
       "      <th>1154</th>\n",
       "      <td>2018-08-01</td>\n",
       "      <td>1000</td>\n",
       "      <td>Краснодар</td>\n",
       "      <td>2018-05-01</td>\n",
       "      <td>2018-12-31</td>\n",
       "      <td>ultra</td>\n",
       "      <td>408.0</td>\n",
       "      <td>14070.0</td>\n",
       "      <td>81.0</td>\n",
       "    </tr>\n",
       "    <tr>\n",
       "      <th>1496</th>\n",
       "      <td>2018-09-01</td>\n",
       "      <td>1000</td>\n",
       "      <td>Краснодар</td>\n",
       "      <td>2018-05-01</td>\n",
       "      <td>2018-12-31</td>\n",
       "      <td>ultra</td>\n",
       "      <td>466.0</td>\n",
       "      <td>14581.0</td>\n",
       "      <td>57.0</td>\n",
       "    </tr>\n",
       "    <tr>\n",
       "      <th>1871</th>\n",
       "      <td>2018-10-01</td>\n",
       "      <td>1000</td>\n",
       "      <td>Краснодар</td>\n",
       "      <td>2018-05-01</td>\n",
       "      <td>2018-12-31</td>\n",
       "      <td>ultra</td>\n",
       "      <td>350.0</td>\n",
       "      <td>14717.0</td>\n",
       "      <td>73.0</td>\n",
       "    </tr>\n",
       "    <tr>\n",
       "      <th>2288</th>\n",
       "      <td>2018-11-01</td>\n",
       "      <td>1000</td>\n",
       "      <td>Краснодар</td>\n",
       "      <td>2018-05-01</td>\n",
       "      <td>2018-12-31</td>\n",
       "      <td>ultra</td>\n",
       "      <td>338.0</td>\n",
       "      <td>14768.0</td>\n",
       "      <td>58.0</td>\n",
       "    </tr>\n",
       "    <tr>\n",
       "      <th>2738</th>\n",
       "      <td>2018-12-01</td>\n",
       "      <td>1000</td>\n",
       "      <td>Краснодар</td>\n",
       "      <td>2018-05-01</td>\n",
       "      <td>2018-12-31</td>\n",
       "      <td>ultra</td>\n",
       "      <td>333.0</td>\n",
       "      <td>9827.0</td>\n",
       "      <td>70.0</td>\n",
       "    </tr>\n",
       "  </tbody>\n",
       "</table>\n",
       "</div>"
      ],
      "text/plain": [
       "          month  user_id       city  reg_month churn_date tariff  \\\n",
       "406  2018-05-01     1000  Краснодар 2018-05-01 2018-12-31  ultra   \n",
       "614  2018-06-01     1000  Краснодар 2018-05-01 2018-12-31  ultra   \n",
       "862  2018-07-01     1000  Краснодар 2018-05-01 2018-12-31  ultra   \n",
       "1154 2018-08-01     1000  Краснодар 2018-05-01 2018-12-31  ultra   \n",
       "1496 2018-09-01     1000  Краснодар 2018-05-01 2018-12-31  ultra   \n",
       "1871 2018-10-01     1000  Краснодар 2018-05-01 2018-12-31  ultra   \n",
       "2288 2018-11-01     1000  Краснодар 2018-05-01 2018-12-31  ultra   \n",
       "2738 2018-12-01     1000  Краснодар 2018-05-01 2018-12-31  ultra   \n",
       "\n",
       "      calls_duration  mb_used  messages  \n",
       "406            159.0   2256.0      22.0  \n",
       "614            172.0  23257.0      60.0  \n",
       "862            340.0  14016.0      75.0  \n",
       "1154           408.0  14070.0      81.0  \n",
       "1496           466.0  14581.0      57.0  \n",
       "1871           350.0  14717.0      73.0  \n",
       "2288           338.0  14768.0      58.0  \n",
       "2738           333.0   9827.0      70.0  "
      ]
     },
     "execution_count": 24,
     "metadata": {},
     "output_type": "execute_result"
    }
   ],
   "source": [
    "df.query('user_id==1000')"
   ]
  },
  {
   "cell_type": "markdown",
   "metadata": {},
   "source": [
    "<a id=\"выручка\"></a> \n",
    "### Расчет выручки  \n",
    "[в начало](#назад)"
   ]
  },
  {
   "cell_type": "markdown",
   "metadata": {},
   "source": [
    "Для начала добавим к `df` информацию о тарифах:"
   ]
  },
  {
   "cell_type": "code",
   "execution_count": 25,
   "metadata": {},
   "outputs": [],
   "source": [
    "df = df.merge(tariffs,how='left',on=['tariff'])"
   ]
  },
  {
   "cell_type": "markdown",
   "metadata": {},
   "source": [
    "Добавим функции для расчета выручки за минуты, мегабайты и сообщения сверх тарифного лимита:"
   ]
  },
  {
   "cell_type": "code",
   "execution_count": 26,
   "metadata": {},
   "outputs": [],
   "source": [
    "# звонки:\n",
    "def revenue_calls(row):\n",
    "    delta=row['calls_duration']-row['minutes_included']\n",
    "    if delta<0:\n",
    "        delta=0\n",
    "    row['revenue_calls']=row['rub_per_minute']*delta\n",
    "    return row\n",
    "\n",
    "# мегабайты:\n",
    "def revenue_gb(row):\n",
    "    delta=row['mb_used']-row['mb_per_month_included']\n",
    "    if delta<0:\n",
    "        delta=0\n",
    "    row['revenue_gb']=row['rub_per_gb']*(delta//1024)\n",
    "    return row\n",
    "\n",
    "# сообщения:\n",
    "def revenue_mess(row):\n",
    "    delta=row['messages']-row['messages_included']\n",
    "    if delta<0:\n",
    "        delta=0\n",
    "    row['revenue_messages']=row['rub_per_message']*delta\n",
    "    return row"
   ]
  },
  {
   "cell_type": "markdown",
   "metadata": {},
   "source": [
    "Применим функции к `df` и создадим столбец `revenue` с общей выручкой от каждого пользователя за месяц:"
   ]
  },
  {
   "cell_type": "code",
   "execution_count": 27,
   "metadata": {},
   "outputs": [],
   "source": [
    "# apply():\n",
    "df=df.apply(revenue_calls,axis=1)\n",
    "df=df.apply(revenue_gb,axis=1)\n",
    "df=df.apply(revenue_mess,axis=1)\n",
    "# столбец revenue\n",
    "df['revenue']=df['revenue_calls']+df['revenue_gb']+df['revenue_messages']+df['rub_monthly_fee']"
   ]
  },
  {
   "cell_type": "markdown",
   "metadata": {},
   "source": [
    "# Анализ\n"
   ]
  },
  {
   "cell_type": "markdown",
   "metadata": {},
   "source": [
    "<a id=\"первый_взгляд\"></a> \n",
    "### Первый взгляд  \n",
    "[в начало](#назад)  \n"
   ]
  },
  {
   "cell_type": "markdown",
   "metadata": {},
   "source": [
    "Рассмотрим основные численные показатели для обоих тарифов:"
   ]
  },
  {
   "cell_type": "code",
   "execution_count": 28,
   "metadata": {},
   "outputs": [
    {
     "name": "stdout",
     "output_type": "stream",
     "text": [
      "Смарт:\n"
     ]
    },
    {
     "data": {
      "text/plain": [
       "count    2230.000000\n",
       "mean     1176.995964\n",
       "std       760.285788\n",
       "min       550.000000\n",
       "25%       550.000000\n",
       "50%       917.500000\n",
       "75%      1550.000000\n",
       "max      6570.000000\n",
       "Name: revenue, dtype: float64"
      ]
     },
     "metadata": {},
     "output_type": "display_data"
    },
    {
     "name": "stdout",
     "output_type": "stream",
     "text": [
      "\n",
      "\n",
      "Ультра\n"
     ]
    },
    {
     "data": {
      "text/plain": [
       "count     986.000000\n",
       "mean     2050.557809\n",
       "std       338.557995\n",
       "min      1950.000000\n",
       "25%      1950.000000\n",
       "50%      1950.000000\n",
       "75%      1950.000000\n",
       "max      4650.000000\n",
       "Name: revenue, dtype: float64"
      ]
     },
     "metadata": {},
     "output_type": "display_data"
    },
    {
     "data": {
      "image/png": "[encoded data removed]",
      "text/plain": [
       "<Figure size 720x720 with 1 Axes>"
      ]
     },
     "metadata": {
      "needs_background": "light"
     },
     "output_type": "display_data"
    }
   ],
   "source": [
    "# функция для построения гистограмм\n",
    "# dff - DataFrame\n",
    "# title - заголовок\n",
    "# col_name - имя колонки\n",
    "# axis_name - название параметра\n",
    "# bins_num - кол-во корзин (default=30)\n",
    "# size - размер области построения (default=(10,10))\n",
    "\n",
    "def hist_smart_vs_ultra(dff,title,col_name,axis_name,bins_num=30,size=(10,10)):\n",
    "    plt.figure(figsize=size)\n",
    "    plt.title(title,fontsize=20)\n",
    "    dff.query('tariff==\"smart\"')[col_name].hist(bins=bins_num,alpha=0.6)\n",
    "    dff.query('tariff==\"ultra\"')[col_name].hist(bins=bins_num, color='r',alpha=0.6,grid=True)\n",
    "    plt.xlabel(axis_name,fontsize=15)\n",
    "    plt.ylabel('Кол-во месяцев',fontsize=15)\n",
    "    plt.legend(['Смарт','Ультра'],fontsize=15)\n",
    "\n",
    "# Характерные значения:\n",
    "print('Смарт:')\n",
    "display(df.query('tariff==\"smart\"')['revenue'].describe())\n",
    "print('\\n\\nУльтра')\n",
    "display(df.query('tariff==\"ultra\"')['revenue'].describe())\n",
    "# Гистограмма\n",
    "hist_smart_vs_ultra(df,'Распределение выручки','revenue','Выручка, руб')"
   ]
  },
  {
   "cell_type": "markdown",
   "metadata": {},
   "source": [
    "Средняя выручка тарифа `ultra` явно выше, чем у тарифа `smart`. Да и стандартное отклонение довольно невелико (338.6 против 760.3): первая квартиль, медиана и третья квартиль равны абонентской плате. А вот примерно половина абонентов с тарифом `smart` оплачивают каждый месяц чек, более чем в два раза превышающий абоненскую плату."
   ]
  },
  {
   "cell_type": "markdown",
   "metadata": {},
   "source": [
    "<a id=\"оценка\"></a> \n",
    "### Оценка влияния \"нулевых\" звонков и сессий\n",
    "[в начало](#назад)"
   ]
  },
  {
   "cell_type": "markdown",
   "metadata": {},
   "source": [
    "Посмотрим, как изменится картина, если мы посчитаем все нулевые звонки пользователей за потери округления при выгрузке. Создадим DataFrame `df2` и заполним его скорректированными данными, используя функции из предыдущего раздела:"
   ]
  },
  {
   "cell_type": "code",
   "execution_count": 29,
   "metadata": {},
   "outputs": [],
   "source": [
    "df2 = dr.merge(users,on='key')\n",
    "df2=df2[['month','user_id','city','reg_month','churn_date','tariff']]\n",
    "df2=df2.query('reg_month<=month<=churn_date')\n",
    "\n",
    "# создадим копию DataFrame calls_1 и заменим в нем 0 на 1\n",
    "calls_1=calls\n",
    "calls_1['duration']=calls_1['duration'].replace(0,1)\n",
    "# сгруппируем по месяцам, посчитаем суммарную длительность звонков и сохраним в DataFrame call_month\n",
    "calls_month = calls_1.groupby(['user_id','month'])[['duration']].agg(['sum']).reset_index()\n",
    "# новые названия столбцов\n",
    "calls_month.columns=['user_id','month','calls_duration']\n",
    "\n",
    "\n",
    "# создадим копию DataFrame calls_1 и заменим в нем 0 на 1\n",
    "internet_1=internet\n",
    "internet_1['mb_used']=internet_1['mb_used'].replace(0,1)\n",
    "# сгруппируем по месяцам, посчитаем суммарный трафик и сохраним в DataFrame mb_month\n",
    "mb_month = internet.groupby(['user_id','month'])[['mb_used']].agg(['sum']).reset_index()\n",
    "# новые названия столбцов\n",
    "mb_month.columns=['user_id','month','mb_used']\n",
    "\n",
    "\n",
    "\n",
    "# сгруппируем по месяцам, посчитаем суммарный трафик и сохраним в DataFrame mb_month\n",
    "messages_month = messages.groupby(['user_id','month'])[['id']].agg(['count']).reset_index()\n",
    "# новые названия столбцов\n",
    "messages_month.columns=['user_id','month','messages']\n",
    "\n",
    "# merge()\n",
    "df2 = df2.merge(calls_month,how='left',on=['user_id','month'])\n",
    "df2 = df2.merge(mb_month,how='left',on=['user_id','month'])\n",
    "df2 = df2.merge(messages_month,how='left',on=['user_id','month'])\n",
    "# заполнение NaN на 0 \n",
    "df2=df2.fillna(0)\n",
    "df2 = df2.merge(tariffs,how='left',on=['tariff'])\n",
    "# apply()\n",
    "df2=df2.apply(revenue_calls,axis=1)\n",
    "df2=df2.apply(revenue_gb,axis=1)\n",
    "df2=df2.apply(revenue_mess,axis=1)\n",
    "\n",
    "# revenue\n",
    "df2['revenue']=df2['revenue_calls']+df2['revenue_gb']+df2['revenue_messages']+df2['rub_monthly_fee']"
   ]
  },
  {
   "cell_type": "code",
   "execution_count": 30,
   "metadata": {
    "scrolled": false
   },
   "outputs": [
    {
     "data": {
      "image/png": "[encoded data removed]",
      "text/plain": [
       "<Figure size 864x432 with 2 Axes>"
      ]
     },
     "metadata": {
      "needs_background": "light"
     },
     "output_type": "display_data"
    },
    {
     "name": "stdout",
     "output_type": "stream",
     "text": [
      "Смарт\n"
     ]
    },
    {
     "data": {
      "text/plain": [
       "count    2230.000000\n",
       "mean     1194.771300\n",
       "std       770.337037\n",
       "min       550.000000\n",
       "25%       550.000000\n",
       "50%       950.000000\n",
       "75%      1574.250000\n",
       "max      6624.000000\n",
       "Name: revenue, dtype: float64"
      ]
     },
     "metadata": {},
     "output_type": "display_data"
    },
    {
     "name": "stdout",
     "output_type": "stream",
     "text": [
      "\n",
      "\n",
      "Ультра:\n"
     ]
    },
    {
     "data": {
      "text/plain": [
       "count     986.000000\n",
       "mean     2050.557809\n",
       "std       338.557995\n",
       "min      1950.000000\n",
       "25%      1950.000000\n",
       "50%      1950.000000\n",
       "75%      1950.000000\n",
       "max      4650.000000\n",
       "Name: revenue, dtype: float64"
      ]
     },
     "metadata": {},
     "output_type": "display_data"
    }
   ],
   "source": [
    "# Гистограмма\n",
    "# df\n",
    "plt.figure(figsize=(12,6))\n",
    "plt.subplot(1,2,1)\n",
    "plt.title('df',fontsize=20)\n",
    "df.query('tariff==\"smart\"')['revenue'].hist(bins=60,alpha=0.6)\n",
    "df.query('tariff==\"ultra\"')['revenue'].hist(bins=60, color='r',alpha=0.6,grid=True)\n",
    "plt.xlabel('Выручка, руб',fontsize=15)\n",
    "plt.ylabel('Кол-во месяцев',fontsize=15)\n",
    "plt.legend(['Смарт','Ультра'],fontsize=15)\n",
    "\n",
    "# df2\n",
    "plt.subplot(1,2,2)\n",
    "plt.title('df2',fontsize=20)\n",
    "df2.query('tariff==\"smart\"')['revenue'].hist(bins=60,alpha=0.6)\n",
    "df2.query('tariff==\"ultra\"')['revenue'].hist(bins=60, color='r',alpha=0.6,grid=True)\n",
    "plt.xlabel('Выручка, руб',fontsize=15)\n",
    "plt.ylabel('Кол-во месяцев',fontsize=15)\n",
    "plt.legend(['Смарт','Ультра'],fontsize=15)\n",
    "plt.show()\n",
    "# Характерные значения\n",
    "print('Смарт')\n",
    "display(df2.query('tariff==\"smart\"')['revenue'].describe())\n",
    "print('\\n\\nУльтра:')\n",
    "display(df2.query('tariff==\"ultra\"')['revenue'].describe())"
   ]
  },
  {
   "cell_type": "markdown",
   "metadata": {},
   "source": [
    "Как видим, оба варианта не особенно отражаются на средней выручке. Для тарифа \"Смарт\" она выросла на 20 руб (1-2%), а для \"Ультра\" вообще не изменилась.  Будемм аккуратны и оценим по нижнему краю, используя `df`"
   ]
  },
  {
   "cell_type": "markdown",
   "metadata": {},
   "source": [
    "<a id=\"анализ_потребления\"></a>\n",
    "### Анализ потребления\n",
    "[в начало](#назад)"
   ]
  },
  {
   "cell_type": "markdown",
   "metadata": {},
   "source": [
    "Оценим, на сколько активно пользователи разных тарифов используют звонки, интернет и сообщения."
   ]
  },
  {
   "cell_type": "code",
   "execution_count": 31,
   "metadata": {
    "scrolled": false
   },
   "outputs": [
    {
     "data": {
      "image/png": "[encoded data removed]",
      "text/plain": [
       "<Figure size 720x720 with 1 Axes>"
      ]
     },
     "metadata": {
      "needs_background": "light"
     },
     "output_type": "display_data"
    },
    {
     "data": {
      "image/png": "[encoded data removed]",
      "text/plain": [
       "<Figure size 720x720 with 1 Axes>"
      ]
     },
     "metadata": {
      "needs_background": "light"
     },
     "output_type": "display_data"
    },
    {
     "data": {
      "image/png": "[encoded data removed]",
      "text/plain": [
       "<Figure size 720x720 with 1 Axes>"
      ]
     },
     "metadata": {
      "needs_background": "light"
     },
     "output_type": "display_data"
    }
   ],
   "source": [
    "hist_smart_vs_ultra(df,'Сколько абоненты говорят?','calls_duration','Суммарное время разговоров за месяц, мин',30)\n",
    "hist_smart_vs_ultra(df,'Сколько сидят в сети?','mb_used','Интернет трафик за месяц, Мб',30)\n",
    "hist_smart_vs_ultra(df,'Как активно используют сообщения?','messages','Сообщений за месяц, мин',30)"
   ]
  },
  {
   "cell_type": "markdown",
   "metadata": {},
   "source": [
    "Выведем основные показатели распределений:"
   ]
  },
  {
   "cell_type": "code",
   "execution_count": 32,
   "metadata": {},
   "outputs": [
    {
     "name": "stdout",
     "output_type": "stream",
     "text": [
      "-----------\n",
      "Звонки \n",
      "\n",
      "Тариф: Смарт\n",
      "Среднее: 429.258\n",
      "Стд отклонение: 195.040\n",
      "Дисперсия 38040.441\n",
      "\n",
      "Тариф: Ультра\n",
      "Среднее: 540.231\n",
      "Стд отклонение: 326.029\n",
      "Дисперсия: 106294.600\n",
      "-----------\n",
      "Интернет \n",
      "\n",
      "Тариф: Смарт\n",
      "Среднее: 16229.903\n",
      "Стд отклонение: 5888.523\n",
      "Дисперсия 34674707.981\n",
      "\n",
      "Тариф: Ультра\n",
      "Среднее: 19468.938\n",
      "Стд отклонение: 10111.047\n",
      "Дисперсия: 102233278.943\n",
      "-----------\n",
      "Сообщения \n",
      "\n",
      "Тариф: Смарт\n",
      "Среднее: 33.369\n",
      "Стд отклонение: 28.230\n",
      "Дисперсия 796.955\n",
      "\n",
      "Тариф: Ультра\n",
      "Среднее: 49.313\n",
      "Стд отклонение: 47.806\n",
      "Дисперсия: 2285.417\n"
     ]
    }
   ],
   "source": [
    "# Функция для вывода среднего, стандартного отклонения и дисперсии по заданному параметру:\n",
    "def stat_parametrs(col_name,title):\n",
    "    print('-----------')\n",
    "    print(title,'\\n')\n",
    "    print('Тариф: Смарт')\n",
    "    print('Среднее: {:.3f}'.format(df2.query('tariff==\"smart\"')[col_name].mean()))\n",
    "    print('Стд отклонение: {:.3f}'.format(df2.query('tariff==\"smart\"')[col_name].std()))\n",
    "    print('Дисперсия {:.3f}'.format(df2.query('tariff==\"smart\"')[col_name].var()))\n",
    "    print('\\nТариф: Ультра')\n",
    "    print('Среднее: {:.3f}'.format(df2.query('tariff==\"ultra\"')[col_name].mean()))\n",
    "    print('Стд отклонение: {:.3f}'.format(df2.query('tariff==\"ultra\"')[col_name].std()))\n",
    "    print('Дисперсия: {:.3f}'.format(df2.query('tariff==\"ultra\"')[col_name].var()))\n",
    "    \n",
    "stat_parametrs('calls_duration', 'Звонки')\n",
    "stat_parametrs('mb_used', 'Интернет')\n",
    "stat_parametrs('messages', 'Сообщения')"
   ]
  },
  {
   "cell_type": "markdown",
   "metadata": {},
   "source": [
    "Сравнивать эти показатели в абсолютных величинах не слишком наглядно. Поэтому посмотрим на них, нормировав по лимитам тарифов."
   ]
  },
  {
   "cell_type": "code",
   "execution_count": 33,
   "metadata": {},
   "outputs": [
    {
     "data": {
      "text/html": [
       "<div>\n",
       "<style scoped>\n",
       "    .dataframe tbody tr th:only-of-type {\n",
       "        vertical-align: middle;\n",
       "    }\n",
       "\n",
       "    .dataframe tbody tr th {\n",
       "        vertical-align: top;\n",
       "    }\n",
       "\n",
       "    .dataframe thead th {\n",
       "        text-align: right;\n",
       "    }\n",
       "</style>\n",
       "<table border=\"1\" class=\"dataframe\">\n",
       "  <thead>\n",
       "    <tr style=\"text-align: right;\">\n",
       "      <th></th>\n",
       "      <th>tariff</th>\n",
       "      <th>minutes_included</th>\n",
       "      <th>mb_per_month_included</th>\n",
       "      <th>messages_included</th>\n",
       "    </tr>\n",
       "  </thead>\n",
       "  <tbody>\n",
       "    <tr>\n",
       "      <th>0</th>\n",
       "      <td>smart</td>\n",
       "      <td>500</td>\n",
       "      <td>15360</td>\n",
       "      <td>50</td>\n",
       "    </tr>\n",
       "    <tr>\n",
       "      <th>1</th>\n",
       "      <td>ultra</td>\n",
       "      <td>3000</td>\n",
       "      <td>30720</td>\n",
       "      <td>1000</td>\n",
       "    </tr>\n",
       "  </tbody>\n",
       "</table>\n",
       "</div>"
      ],
      "text/plain": [
       "  tariff  minutes_included  mb_per_month_included  messages_included\n",
       "0  smart               500                  15360                 50\n",
       "1  ultra              3000                  30720               1000"
      ]
     },
     "execution_count": 33,
     "metadata": {},
     "output_type": "execute_result"
    }
   ],
   "source": [
    "tariffs[['tariff','minutes_included','mb_per_month_included','messages_included']]"
   ]
  },
  {
   "cell_type": "code",
   "execution_count": 34,
   "metadata": {
    "scrolled": false
   },
   "outputs": [
    {
     "data": {
      "image/png": "[encoded data removed]",
      "text/plain": [
       "<Figure size 720x720 with 1 Axes>"
      ]
     },
     "metadata": {
      "needs_background": "light"
     },
     "output_type": "display_data"
    },
    {
     "data": {
      "image/png": "[encoded data removed]",
      "text/plain": [
       "<Figure size 720x720 with 1 Axes>"
      ]
     },
     "metadata": {
      "needs_background": "light"
     },
     "output_type": "display_data"
    },
    {
     "data": {
      "image/png": "[encoded data removed]",
      "text/plain": [
       "<Figure size 720x720 with 1 Axes>"
      ]
     },
     "metadata": {
      "needs_background": "light"
     },
     "output_type": "display_data"
    }
   ],
   "source": [
    "def hist_smart_vs_ultra_norm(dff,title,col_name,axis_name,bins_num=10, norm_s=1, norm_u=1):\n",
    "    plt.figure(figsize=(10,10))\n",
    "    plt.title(title,fontsize=20)\n",
    "    (dff.query('tariff==\"smart\"')[col_name]/norm_s).hist(bins=bins_num,alpha=0.6)\n",
    "    (dff.query('tariff==\"ultra\"')[col_name]/norm_u).hist(bins=bins_num, color='r',alpha=0.6,grid=True)\n",
    "    plt.xlim(0,2)\n",
    "    plt.xlabel(axis_name,fontsize=15)\n",
    "    plt.ylabel('Кол-во месяцев',fontsize=15)\n",
    "    plt.legend(['Смарт','Ультра'],fontsize=15)\n",
    "    \n",
    "hist_smart_vs_ultra_norm(df,'Сколько абоненты говорят?','calls_duration','Суммарное время разговоров за месяц в лимитах тарифа',30,500,3000)\n",
    "hist_smart_vs_ultra_norm(df,'Сколько сидят в сети?','mb_used','Интернет трафик за месяц в лимитах тарифа',30,15360, 30720)\n",
    "hist_smart_vs_ultra_norm(df,'Как активно используют сообщения?','messages','Сообщений за месяц в лимитах тарифа',120,50,1000)"
   ]
  },
  {
   "cell_type": "markdown",
   "metadata": {},
   "source": [
    "Будем считать эффективным с точки зрения клиента использование тарифа, когда отношение расхода минут/мегабайтов/сообщений за месяц к месячному лимиту близко к 1. Из построенных гистаграмм явно видно, что:\n",
    "- Распределение пользователей тарифа \"Смарт\" по времени звонков блико к пуассоновскому с наиболее частым значением чуть ниже установленного месячного лимита. А вот пользователи тарифа Ультра не расходуют и половины предоставленного времени.\n",
    "- Распределение по интернет трафику для тарифа Смарт всё так же имеет пик около 1, а вот абоненты тарифа Ультра явно уделяют интернету больше внимания, чем звонкам. Не смотря на вдвое больший лимит, среди них тоже находится не мало пользователей выходящих за лимит трафика.\n",
    "- В среднем оба тарифа отправляют примерно одинаковое (30-40) кол-во сообщений в месяц, но многие не отправляют вовсе. Тариф Ультра даже близко не приближается к своему пределу в 1000 сообщений.\n",
    "\n",
    "Итого: пользователи тарифа Ультра говорят по телефону не многим больше, чем пользователи тарифа Смарт. А вот интернет, судя по всему, является самым востребованным ресурсом. Вероятно, именно он имел определяющее значение при выборе тарифа."
   ]
  },
  {
   "cell_type": "markdown",
   "metadata": {},
   "source": [
    "<a id=\"гипотезы\"></a> \n",
    "### Проверка гипотез\n",
    "[в начало](#назад)"
   ]
  },
  {
   "cell_type": "markdown",
   "metadata": {},
   "source": [
    "**Гипотеза о среднем**\n",
    "- В качестве нулевой гипотезы предположим: средняя выручка тарифов \"Ультра\" и \"Смарт\" равны.  \n",
    "- В качестве альтернативной: средняя выручка тарифов \"Ультра\" и \"Смарт\" отличаются.\n",
    "  \n",
    "Для проверки нулевой гипотезы нам необходимо проверить утверждение о том, что средняя выручка от тарифов равна. Если точнее, то т.к. в нашей выборке средние для этих тарифов очевидно различны, нам необходимо оценить вероятность, с которой подобное различие могло получиться случайно. \n",
    "У нас две независимые выборки. Воспользуемся t-тестом Стьюдента:"
   ]
  },
  {
   "cell_type": "code",
   "execution_count": 35,
   "metadata": {},
   "outputs": [
    {
     "name": "stdout",
     "output_type": "stream",
     "text": [
      "p-value: 3.496214201498474e-223\n"
     ]
    }
   ],
   "source": [
    "# критический уровень статистической значимости\n",
    "alpha = 0.01\n",
    "# проверка гипотезы о равенстве средних\n",
    "results = st.ttest_ind(df.query('tariff==\"smart\"')['revenue'],df.query('tariff==\"ultra\"')['revenue'])\n",
    "print('p-value:',results.pvalue) #p-value"
   ]
  },
  {
   "cell_type": "markdown",
   "metadata": {},
   "source": [
    "Как и предполагалось, средняя выручка с пользователя за месяц для тарифов отличается. Для случайного совпадения было бы необходимо огромное число пользователей с тарифом \"Смарт\", которые в месяц умудрялись бы наговорить много больше чем на 4 абонентских платы. Даже если такие люди существуют, большинство из них скорее всего давно задумалось бы о смене тарифа на более подходящий - поэтому вероятность исчезающе мала.\n",
    "  \n",
    "Тариф \"Ультра\" приносит больше и сильно более предсказуем - его стандартное отклонение ниже, а среднее почти вдвое выше. Три четверти пользователей не выбиваются за лимиты, установленные тарифом. Суммарная прогнозируемая выручка для этого тарифа будет близка к произведению кол-ва абонентов на абонентскую плату."
   ]
  },
  {
   "cell_type": "markdown",
   "metadata": {},
   "source": [
    "**Гипотеза о Москве и регионах**  \n",
    "- В качестве нулевой гипотезы предположим: средняя выручка для Москвы и регионов одинакова.  \n",
    "- В качестве альтернативной: средняя выручка для Москвы и регионов отличается.\n",
    "\n",
    "Перед нами задача похожая на предыдущую и для оценки вероятности логично использовать тот же критерий."
   ]
  },
  {
   "cell_type": "code",
   "execution_count": 36,
   "metadata": {},
   "outputs": [
    {
     "name": "stdout",
     "output_type": "stream",
     "text": [
      "Средняя выручка по Москве: 1470.04 руб\n",
      "Средняя выручка в регионах: 1438.91 руб\n",
      "p-value: 0.3706849604906597\n"
     ]
    }
   ],
   "source": [
    "print('Средняя выручка по Москве: {:.2f} руб'.format(df.query('city==\"Москва\"')['revenue'].mean()))\n",
    "print('Средняя выручка в регионах: {:.2f} руб'.format(df.query('city!=\"Москва\"')['revenue'].mean()))\n",
    "\n",
    "# проверка гипотезы о равенстве средних\n",
    "results = st.ttest_ind(df.query('city==\"Москва\"')['revenue'],df.query('city!=\"Москва\"')['revenue'])\n",
    "# p-значение:\n",
    "print('p-value:',results.pvalue) # p-value"
   ]
  },
  {
   "cell_type": "markdown",
   "metadata": {},
   "source": [
    "Опровергнуть нулевую гипотезу не удалось. Как видим, среднее значение для обеих выборок отличаются всего на пару процентов, так что нет ничего удивительного в том, что случайное различие между ними можно получить примерно в 37% случаев. Это значит, что с большой долей вероятности средняя выручка за месяц от пользователя в Москве не будет значительно отличаться от выручки с пользователя в регионах."
   ]
  },
  {
   "cell_type": "markdown",
   "metadata": {},
   "source": [
    "# Выводы"
   ]
  },
  {
   "cell_type": "markdown",
   "metadata": {},
   "source": [
    "[в начало](#назад)"
   ]
  },
  {
   "cell_type": "markdown",
   "metadata": {},
   "source": [
    "В результате исследования выборки из 500 пользователей удалось установить: \n",
    "- Больше в среднем за месяц приносят пользователи тарифа \"Ультра\". При этом пользователи данного тарифа достаточно редко превышают установленные лимиты (расходуют не весь оплаченный ими трафик). **Можно рекомендовать коммерческому департаменту \"Мегалайна\" активнее продвигать тариф \"Ультра\"**  \n",
    "- Гипотеза о том, что средняя выручка за месяц от пользователя в Москве выше выручки пользователя из регионов, оказалась не верна.\n",
    "- В маркетинговой компании скорее всего следуют уделить **максимальное внимание предоставляемому интернет-трафику**"
   ]
  },
  {
   "cell_type": "code",
   "execution_count": null,
   "metadata": {},
   "outputs": [],
   "source": []
  }
 ],
 "metadata": {
  "kernelspec": {
   "display_name": "Python 3",
   "language": "python",
   "name": "python3"
  },
  "language_info": {
   "codemirror_mode": {
    "name": "ipython",
    "version": 3
   },
   "file_extension": ".py",
   "mimetype": "text/x-python",
   "name": "python",
   "nbconvert_exporter": "python",
   "pygments_lexer": "ipython3",
   "version": "3.7.6"
  }
 },
 "nbformat": 4,
 "nbformat_minor": 2
}
